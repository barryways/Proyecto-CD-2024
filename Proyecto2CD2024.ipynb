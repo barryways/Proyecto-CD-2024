{
  "nbformat": 4,
  "nbformat_minor": 0,
  "metadata": {
    "colab": {
      "provenance": [],
      "authorship_tag": "ABX9TyM9zzF3du+C7jJ1H8DEQegD",
      "include_colab_link": true
    },
    "kernelspec": {
      "name": "python3",
      "display_name": "Python 3"
    },
    "language_info": {
      "name": "python"
    }
  },
  "cells": [
    {
      "cell_type": "markdown",
      "metadata": {
        "id": "view-in-github",
        "colab_type": "text"
      },
      "source": [
        "<a href=\"https://colab.research.google.com/github/barryways/Proyecto-CD-2024/blob/main/Proyecto2CD2024.ipynb\" target=\"_parent\"><img src=\"https://colab.research.google.com/assets/colab-badge.svg\" alt=\"Open In Colab\"/></a>"
      ]
    },
    {
      "cell_type": "markdown",
      "source": [
        "###Proyecto 2 Notebook de Ingenieria de caracteristicas …\n",
        "Carlos Daniel Barrientos Castillo 1040121\n",
        "Diego André Cordón Hernández 1094021"
      ],
      "metadata": {
        "id": "i5f2eod-d8ma"
      }
    },
    {
      "cell_type": "code",
      "execution_count": null,
      "metadata": {
        "id": "bp5SYFVVd5TF"
      },
      "outputs": [],
      "source": []
    }
  ]
}